{
 "cells": [
  {
   "cell_type": "code",
   "execution_count": 17,
   "id": "776ba557-a43e-42c9-8dd5-6018e978084b",
   "metadata": {},
   "outputs": [],
   "source": [
    "import pandas as pd\n",
    "\n",
    "df = pd.read_csv('StatsNQ.csv')\n",
    "df['Val Accuracy'] = df['Val Accuracy'].astype(str)\n",
    "df['Val Accuracy.1'] = df['Val Accuracy.1'].astype(str)\n",
    "df['Val Accuracy'] = df['Val Accuracy'].str.extract('(0.\\d+)')\n",
    "df['Val Accuracy.1'] = df['Val Accuracy.1'].str.extract('(0.\\d+)')\n",
    "\n",
    "df = df[df.columns[1:]]\n",
    "df.columns =  ['Model', 'Epoch', 'Train Loss', 'Train Accuracy', 'Val Loss', 'Val Accuracy']\n",
    "df['Train Accuracy']= df['Train Accuracy'].astype(float)\n",
    "df['Val Accuracy']= df['Val Accuracy'].astype(float)\n",
    "df.head()\n",
    "df.to_csv('StatsNQ_Clean.csv')"
   ]
  },
  {
   "cell_type": "code",
   "execution_count": 18,
   "id": "633b864b-78ef-497c-87f5-df133fd7b9fa",
   "metadata": {},
   "outputs": [
    {
     "data": {
      "text/plain": [
       "Model              object\n",
       "Epoch               int64\n",
       "Train Loss        float64\n",
       "Train Accuracy    float64\n",
       "Val Loss          float64\n",
       "Val Accuracy      float64\n",
       "dtype: object"
      ]
     },
     "execution_count": 18,
     "metadata": {},
     "output_type": "execute_result"
    }
   ],
   "source": [
    "df.dtypes"
   ]
  },
  {
   "cell_type": "code",
   "execution_count": 19,
   "id": "97598ae1-7726-4411-9739-3d9e832c6bc0",
   "metadata": {},
   "outputs": [],
   "source": [
    "df['Model'].unique()\n",
    "import matplotlib.pyplot as plt\n",
    "\n",
    "def plot_values(model, epoch, train_val, test_val, label):\n",
    "    plt.plot(epoch, train_val, label=\"Train \" + label)\n",
    "    plt.plot(epoch, test_val, label=\"Test \" + label)\n",
    "    plt.title(model + \" \" + label + \" curves\")\n",
    "    plt.ylabel(label)\n",
    "    plt.xlabel(\"Epochs\")\n",
    "    plt.legend();\n",
    "    plt.savefig(model + \"_\" + label + \".png\")\n",
    "    plt.clf()"
   ]
  },
  {
   "cell_type": "code",
   "execution_count": 20,
   "id": "f84176ba-c47b-4341-a886-8992c4c33f01",
   "metadata": {},
   "outputs": [
    {
     "data": {
      "text/plain": [
       "<Figure size 640x480 with 0 Axes>"
      ]
     },
     "metadata": {},
     "output_type": "display_data"
    }
   ],
   "source": [
    "for i in df['Model'].unique():\n",
    "    df_temp = df[df['Model']==i]\n",
    "    plot_values(i, df_temp['Epoch'], \n",
    "                df_temp['Train Loss'],\n",
    "                df_temp['Val Loss'], \"Loss\")"
   ]
  },
  {
   "cell_type": "code",
   "execution_count": 21,
   "id": "3166bed4-575f-4aa2-a90d-4e3702b107ce",
   "metadata": {},
   "outputs": [
    {
     "data": {
      "text/plain": [
       "<Figure size 640x480 with 0 Axes>"
      ]
     },
     "metadata": {},
     "output_type": "display_data"
    }
   ],
   "source": [
    "for i in df['Model'].unique():\n",
    "    df_temp = df[df['Model']==i]\n",
    "    plot_values(i, df_temp['Epoch'], \n",
    "                df_temp['Train Accuracy'],\n",
    "                df_temp['Val Accuracy'], \"Accuracy\")"
   ]
  },
  {
   "cell_type": "code",
   "execution_count": null,
   "id": "2321fd99-ad7a-47cf-b9dc-3f4bf3f4780c",
   "metadata": {},
   "outputs": [],
   "source": []
  }
 ],
 "metadata": {
  "kernelspec": {
   "display_name": "Python 3 (ipykernel)",
   "language": "python",
   "name": "python3"
  },
  "language_info": {
   "codemirror_mode": {
    "name": "ipython",
    "version": 3
   },
   "file_extension": ".py",
   "mimetype": "text/x-python",
   "name": "python",
   "nbconvert_exporter": "python",
   "pygments_lexer": "ipython3",
   "version": "3.10.13"
  }
 },
 "nbformat": 4,
 "nbformat_minor": 5
}
